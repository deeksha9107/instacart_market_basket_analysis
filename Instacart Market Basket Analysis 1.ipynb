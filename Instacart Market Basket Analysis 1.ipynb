{
 "cells": [
  {
   "cell_type": "code",
   "execution_count": 1,
   "id": "d10338da",
   "metadata": {},
   "outputs": [],
   "source": [
    "# Instacart Market Basket Analysis 1 - Initial Analysis"
   ]
  },
  {
   "cell_type": "code",
   "execution_count": 2,
   "id": "b27da93f",
   "metadata": {},
   "outputs": [],
   "source": [
    "# 1. Data Cleaning, Description and Analysis"
   ]
  },
  {
   "cell_type": "code",
   "execution_count": 3,
   "id": "b89fb899",
   "metadata": {},
   "outputs": [
    {
     "name": "stdout",
     "output_type": "stream",
     "text": [
      "Requirement already satisfied: kaggle in /usr/local/lib/python3.11/site-packages (1.5.13)\n",
      "Requirement already satisfied: six>=1.10 in /usr/local/lib/python3.11/site-packages (from kaggle) (1.16.0)\n",
      "Requirement already satisfied: certifi in /usr/local/lib/python3.11/site-packages (from kaggle) (2022.12.7)\n",
      "Requirement already satisfied: python-dateutil in /usr/local/lib/python3.11/site-packages (from kaggle) (2.8.2)\n",
      "Requirement already satisfied: requests in /usr/local/lib/python3.11/site-packages (from kaggle) (2.28.2)\n",
      "Requirement already satisfied: tqdm in /usr/local/lib/python3.11/site-packages (from kaggle) (4.65.0)\n",
      "Requirement already satisfied: python-slugify in /usr/local/lib/python3.11/site-packages (from kaggle) (8.0.1)\n",
      "Requirement already satisfied: urllib3 in /usr/local/lib/python3.11/site-packages (from kaggle) (1.26.15)\n",
      "Requirement already satisfied: text-unidecode>=1.3 in /usr/local/lib/python3.11/site-packages (from python-slugify->kaggle) (1.3)\n",
      "Requirement already satisfied: charset-normalizer<4,>=2 in /usr/local/lib/python3.11/site-packages (from requests->kaggle) (3.1.0)\n",
      "Requirement already satisfied: idna<4,>=2.5 in /usr/local/lib/python3.11/site-packages (from requests->kaggle) (3.4)\n",
      "Requirement already satisfied: numpy in /usr/local/lib/python3.11/site-packages (1.24.3)\n",
      "Requirement already satisfied: pandas in /usr/local/lib/python3.11/site-packages (2.0.1)\n",
      "Requirement already satisfied: python-dateutil>=2.8.2 in /usr/local/lib/python3.11/site-packages (from pandas) (2.8.2)\n",
      "Requirement already satisfied: pytz>=2020.1 in /usr/local/lib/python3.11/site-packages (from pandas) (2023.3)\n",
      "Requirement already satisfied: tzdata>=2022.1 in /usr/local/lib/python3.11/site-packages (from pandas) (2023.3)\n",
      "Requirement already satisfied: numpy>=1.21.0 in /usr/local/lib/python3.11/site-packages (from pandas) (1.24.3)\n",
      "Requirement already satisfied: six>=1.5 in /usr/local/lib/python3.11/site-packages (from python-dateutil>=2.8.2->pandas) (1.16.0)\n",
      "Requirement already satisfied: matplotlib in /usr/local/lib/python3.11/site-packages (3.7.1)\n",
      "Requirement already satisfied: contourpy>=1.0.1 in /usr/local/lib/python3.11/site-packages (from matplotlib) (1.0.7)\n",
      "Requirement already satisfied: cycler>=0.10 in /usr/local/lib/python3.11/site-packages (from matplotlib) (0.11.0)\n",
      "Requirement already satisfied: fonttools>=4.22.0 in /usr/local/lib/python3.11/site-packages (from matplotlib) (4.39.3)\n",
      "Requirement already satisfied: kiwisolver>=1.0.1 in /usr/local/lib/python3.11/site-packages (from matplotlib) (1.4.4)\n",
      "Requirement already satisfied: numpy>=1.20 in /usr/local/lib/python3.11/site-packages (from matplotlib) (1.24.3)\n",
      "Requirement already satisfied: packaging>=20.0 in /usr/local/lib/python3.11/site-packages (from matplotlib) (23.0)\n",
      "Requirement already satisfied: pillow>=6.2.0 in /usr/local/lib/python3.11/site-packages (from matplotlib) (9.5.0)\n",
      "Requirement already satisfied: pyparsing>=2.3.1 in /usr/local/lib/python3.11/site-packages (from matplotlib) (3.0.9)\n",
      "Requirement already satisfied: python-dateutil>=2.7 in /usr/local/lib/python3.11/site-packages (from matplotlib) (2.8.2)\n",
      "Requirement already satisfied: six>=1.5 in /usr/local/lib/python3.11/site-packages (from python-dateutil>=2.7->matplotlib) (1.16.0)\n",
      "Requirement already satisfied: seaborn in /usr/local/lib/python3.11/site-packages (0.12.2)\n",
      "Requirement already satisfied: numpy!=1.24.0,>=1.17 in /usr/local/lib/python3.11/site-packages (from seaborn) (1.24.3)\n",
      "Requirement already satisfied: pandas>=0.25 in /usr/local/lib/python3.11/site-packages (from seaborn) (2.0.1)\n",
      "Requirement already satisfied: matplotlib!=3.6.1,>=3.1 in /usr/local/lib/python3.11/site-packages (from seaborn) (3.7.1)\n",
      "Requirement already satisfied: contourpy>=1.0.1 in /usr/local/lib/python3.11/site-packages (from matplotlib!=3.6.1,>=3.1->seaborn) (1.0.7)\n",
      "Requirement already satisfied: cycler>=0.10 in /usr/local/lib/python3.11/site-packages (from matplotlib!=3.6.1,>=3.1->seaborn) (0.11.0)\n",
      "Requirement already satisfied: fonttools>=4.22.0 in /usr/local/lib/python3.11/site-packages (from matplotlib!=3.6.1,>=3.1->seaborn) (4.39.3)\n",
      "Requirement already satisfied: kiwisolver>=1.0.1 in /usr/local/lib/python3.11/site-packages (from matplotlib!=3.6.1,>=3.1->seaborn) (1.4.4)\n",
      "Requirement already satisfied: packaging>=20.0 in /usr/local/lib/python3.11/site-packages (from matplotlib!=3.6.1,>=3.1->seaborn) (23.0)\n",
      "Requirement already satisfied: pillow>=6.2.0 in /usr/local/lib/python3.11/site-packages (from matplotlib!=3.6.1,>=3.1->seaborn) (9.5.0)\n",
      "Requirement already satisfied: pyparsing>=2.3.1 in /usr/local/lib/python3.11/site-packages (from matplotlib!=3.6.1,>=3.1->seaborn) (3.0.9)\n",
      "Requirement already satisfied: python-dateutil>=2.7 in /usr/local/lib/python3.11/site-packages (from matplotlib!=3.6.1,>=3.1->seaborn) (2.8.2)\n",
      "Requirement already satisfied: pytz>=2020.1 in /usr/local/lib/python3.11/site-packages (from pandas>=0.25->seaborn) (2023.3)\n",
      "Requirement already satisfied: tzdata>=2022.1 in /usr/local/lib/python3.11/site-packages (from pandas>=0.25->seaborn) (2023.3)\n",
      "Requirement already satisfied: six>=1.5 in /usr/local/lib/python3.11/site-packages (from python-dateutil>=2.7->matplotlib!=3.6.1,>=3.1->seaborn) (1.16.0)\n",
      "Requirement already satisfied: scikit-learn in /usr/local/lib/python3.11/site-packages (1.2.2)\n",
      "Requirement already satisfied: numpy>=1.17.3 in /usr/local/lib/python3.11/site-packages (from scikit-learn) (1.24.3)\n",
      "Requirement already satisfied: scipy>=1.3.2 in /usr/local/lib/python3.11/site-packages (from scikit-learn) (1.10.1)\n",
      "Requirement already satisfied: joblib>=1.1.1 in /usr/local/lib/python3.11/site-packages (from scikit-learn) (1.2.0)\n",
      "Requirement already satisfied: threadpoolctl>=2.0.0 in /usr/local/lib/python3.11/site-packages (from scikit-learn) (3.1.0)\n"
     ]
    }
   ],
   "source": [
    "#1: Library Imports\n",
    "!pip install kaggle\n",
    "!pip install numpy\n",
    "!pip install pandas\n",
    "!pip install matplotlib\n",
    "!pip install seaborn\n",
    "!pip install scikit-learn"
   ]
  },
  {
   "cell_type": "code",
   "execution_count": 4,
   "id": "705fc3e6",
   "metadata": {},
   "outputs": [
    {
     "name": "stdout",
     "output_type": "stream",
     "text": [
      "env: KAGGLE_USERNAME=deekshatiwari9107\n",
      "env: KAGGLE_KEY=e4f7fda2eea148fcf8d94c9fe3633c55\n"
     ]
    }
   ],
   "source": [
    "#replace with your username and key\n",
    "%env KAGGLE_USERNAME=deekshatiwari9107\n",
    "%env KAGGLE_KEY=e4f7fda2eea148fcf8d94c9fe3633c55"
   ]
  },
  {
   "cell_type": "code",
   "execution_count": 5,
   "id": "621df00a",
   "metadata": {},
   "outputs": [],
   "source": [
    "import numpy as np\n",
    "import pandas as pd\n",
    "import matplotlib\n",
    "import matplotlib.pyplot as plt\n",
    "import seaborn as sns\n",
    "\n",
    "matplotlib.rcParams['figure.dpi'] = 120 #resolution\n",
    "matplotlib.rcParams['figure.figsize'] = (8,6) #figure size\n",
    "sns.set_style('darkgrid')\n",
    "# matplotlib and seaborn for plotting\n",
    "matplotlib.rcParams['figure.dpi'] = 120 #resolution\n",
    "matplotlib.rcParams['figure.figsize'] = (8,6) #figure size\n",
    "color = sns.color_palette()\n",
    "# pd.set_option('max_columns', 150)\n"
   ]
  },
  {
   "cell_type": "code",
   "execution_count": 6,
   "id": "ff46a7e3",
   "metadata": {},
   "outputs": [],
   "source": [
    "#2. Fetch the data"
   ]
  },
  {
   "cell_type": "code",
   "execution_count": 7,
   "id": "3db84169",
   "metadata": {},
   "outputs": [
    {
     "name": "stdout",
     "output_type": "stream",
     "text": [
      "Downloading instacart-market-basket-analysis.zip to ../instacart_data_files\n",
      "100%|███████████████████████████████████████▉| 196M/196M [00:13<00:00, 17.6MB/s]\n",
      "100%|████████████████████████████████████████| 196M/196M [00:13<00:00, 15.1MB/s]\n"
     ]
    }
   ],
   "source": [
    "!kaggle competitions download -c instacart-market-basket-analysis -p ../instacart_data_files/"
   ]
  },
  {
   "cell_type": "code",
   "execution_count": 8,
   "id": "57900c4e",
   "metadata": {},
   "outputs": [
    {
     "name": "stdout",
     "output_type": "stream",
     "text": [
      "Archive:  ../instacart_data_files/instacart-market-basket-analysis.zip\n",
      "  inflating: ../instacart_data_files/aisles.csv.zip  \n",
      "  inflating: ../instacart_data_files/departments.csv.zip  \n",
      "  inflating: ../instacart_data_files/order_products__prior.csv.zip  \n",
      "  inflating: ../instacart_data_files/order_products__train.csv.zip  \n",
      "  inflating: ../instacart_data_files/orders.csv.zip  \n",
      "  inflating: ../instacart_data_files/products.csv.zip  \n",
      "  inflating: ../instacart_data_files/sample_submission.csv.zip  \n"
     ]
    }
   ],
   "source": [
    "!unzip -o ../instacart_data_files/instacart-market-basket-analysis.zip -d ../instacart_data_files/"
   ]
  },
  {
   "cell_type": "code",
   "execution_count": 9,
   "id": "181e1f40",
   "metadata": {},
   "outputs": [
    {
     "name": "stdout",
     "output_type": "stream",
     "text": [
      "dirs:  ['order_products__prior.csv.zip', 'order_products__train.csv.zip', 'aisles.csv.zip', 'orders.csv.zip', 'departments.csv.zip', 'products.csv.zip', 'sample_submission.csv.zip', 'instacart-market-basket-analysis.zip']\n"
     ]
    }
   ],
   "source": [
    "import os\n",
    "root = '../instacart_data_files/'\n",
    "dirs = os.listdir(root)\n",
    "print(\"dirs: \", dirs)"
   ]
  },
  {
   "cell_type": "code",
   "execution_count": 10,
   "id": "411ab271",
   "metadata": {},
   "outputs": [
    {
     "name": "stdout",
     "output_type": "stream",
     "text": [
      "Archive:  ../instacart_data_files/order_products__prior.csv.zip\n",
      "  inflating: ../instacart_data_files/order_products__prior.csv  \n",
      "   creating: ../instacart_data_files/__MACOSX/\n",
      "  inflating: ../instacart_data_files/__MACOSX/._order_products__prior.csv  \n",
      "Archive:  ../instacart_data_files/order_products__train.csv.zip\n",
      "  inflating: ../instacart_data_files/order_products__train.csv  \n",
      "  inflating: ../instacart_data_files/__MACOSX/._order_products__train.csv  \n",
      "Archive:  ../instacart_data_files/aisles.csv.zip\n",
      "  inflating: ../instacart_data_files/aisles.csv  \n",
      "  inflating: ../instacart_data_files/__MACOSX/._aisles.csv  \n",
      "Archive:  ../instacart_data_files/orders.csv.zip\n",
      "  inflating: ../instacart_data_files/orders.csv  \n",
      "  inflating: ../instacart_data_files/__MACOSX/._orders.csv  \n",
      "Archive:  ../instacart_data_files/departments.csv.zip\n",
      "  inflating: ../instacart_data_files/departments.csv  \n",
      "  inflating: ../instacart_data_files/__MACOSX/._departments.csv  \n",
      "Archive:  ../instacart_data_files/products.csv.zip\n",
      "  inflating: ../instacart_data_files/products.csv  \n",
      "  inflating: ../instacart_data_files/__MACOSX/._products.csv  \n",
      "Archive:  ../instacart_data_files/sample_submission.csv.zip\n",
      "  inflating: ../instacart_data_files/sample_submission.csv  \n",
      "Archive:  ../instacart_data_files/instacart-market-basket-analysis.zip\n",
      "  inflating: ../instacart_data_files/aisles.csv.zip  \n",
      "  inflating: ../instacart_data_files/departments.csv.zip  \n",
      "  inflating: ../instacart_data_files/order_products__prior.csv.zip  \n",
      "  inflating: ../instacart_data_files/order_products__train.csv.zip  \n",
      "  inflating: ../instacart_data_files/orders.csv.zip  \n",
      "  inflating: ../instacart_data_files/products.csv.zip  \n",
      "  inflating: ../instacart_data_files/sample_submission.csv.zip  \n"
     ]
    }
   ],
   "source": [
    "for filename in os.listdir(root):\n",
    "  if not filename.endswith(\".zip\"):\n",
    "    continue\n",
    "  os.system(\"unzip -o {} -d {}\".format(os.path.join(root, filename), root))"
   ]
  },
  {
   "cell_type": "code",
   "execution_count": null,
   "id": "b7ee598f",
   "metadata": {},
   "outputs": [],
   "source": []
  }
 ],
 "metadata": {
  "kernelspec": {
   "display_name": "Python 3 (ipykernel)",
   "language": "python",
   "name": "python3"
  },
  "language_info": {
   "codemirror_mode": {
    "name": "ipython",
    "version": 3
   },
   "file_extension": ".py",
   "mimetype": "text/x-python",
   "name": "python",
   "nbconvert_exporter": "python",
   "pygments_lexer": "ipython3",
   "version": "3.11.3"
  }
 },
 "nbformat": 4,
 "nbformat_minor": 5
}
